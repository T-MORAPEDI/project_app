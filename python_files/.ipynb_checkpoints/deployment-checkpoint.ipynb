{
 "cells": [
  {
   "cell_type": "markdown",
   "id": "aaefd527",
   "metadata": {},
   "source": [
    "\n",
    "# TSHEPANG MORAPEDI (201802331)\n",
    "---\n",
    "## Machine Learning API: Sentiment Analysis Service for an Online Sneaker Store\n",
    "### NSTD842: Special Topic in Data Science\n",
    "---\n",
    "### 30 SEPTEMBER 2023\n",
    "---"
   ]
  },
  {
   "cell_type": "markdown",
   "id": "24d130d9",
   "metadata": {},
   "source": [
    "## The problem this project aims to solve:\n",
    "\n",
    "How can the online sneaker store automate the process of analysing and understanding the sentiment behind customer reviews, and how can this analysis be seamlessly integrated into the store’s website for real-time insights?\n",
    "\n",
    "## SOLUTION\n",
    "\n",
    "To address this problem, this project proposes the development and deployment\n",
    "of a Sentiment Analysis Service"
   ]
  },
  {
   "cell_type": "code",
   "execution_count": null,
   "id": "8c4f8c8c",
   "metadata": {},
   "outputs": [],
   "source": [
    "import pandas as pd\n",
    "import numpy as np\n",
    "import matplotlib.pyplot as plt\n",
    "import seaborn as sns\n",
    "import re\n",
    "import string\n",
    "import time\n",
    "from sklearn.model_selection import train_test_split\n",
    "import pickle\n",
    "from nltk.corpus import stopwords\n",
    "from sklearn.feature_extraction.text import CountVectorizer, TfidfVectorizer\n",
    "from sklearn.linear_model import LogisticRegression\n",
    "from sklearn.metrics import classification_report\n",
    "# NLTK Stop words\n",
    "import nltk\n",
    "nltk.download('stopwords')\n",
    "from nltk.corpus import stopwords\n",
    "stop_words = stopwords.words('english')\n",
    "\n",
    "stop_words.extend(['make', 'want', 'seem', 'run', 'need', 'even', 'not', 'would', 'say', 'could', '_', \n",
    "                'be', 'know', 'go', 'get', 'do','get','far','also','way','app','usd','eur','jai','hind','jai_hind',\n",
    "'done', 'try', 'many','from', 'subject', 're', 'edu','some', 'nice', 'thank','singh','mast','untuk','apne','nise','vgood',\n",
    "'think', 'see', 'rather', 'lot', 'line', 'even', 'also', 'may', 'use','goog','nce','aap','thik','hai','setu','aarogya_setu','aarogya',\n",
    "'take', 'come','recommend','recommended','paypal','paytm', 'let','ad','add'])\n",
    "\n",
    "from nltk.stem import PorterStemmer\n",
    "%matplotlib inline"
   ]
  },
  {
   "cell_type": "code",
   "execution_count": 3,
   "id": "2a84e6e5",
   "metadata": {},
   "outputs": [
    {
     "ename": "NameError",
     "evalue": "name 'files' is not defined",
     "output_type": "error",
     "traceback": [
      "\u001b[1;31m---------------------------------------------------------------------------\u001b[0m",
      "\u001b[1;31mNameError\u001b[0m                                 Traceback (most recent call last)",
      "Input \u001b[1;32mIn [3]\u001b[0m, in \u001b[0;36m<cell line: 1>\u001b[1;34m()\u001b[0m\n\u001b[1;32m----> 1\u001b[0m data \u001b[38;5;241m=\u001b[39m \u001b[43mfiles\u001b[49m\u001b[38;5;241m.\u001b[39mupload()\n",
      "\u001b[1;31mNameError\u001b[0m: name 'files' is not defined"
     ]
    }
   ],
   "source": [
    "#data = files.upload()"
   ]
  },
  {
   "cell_type": "code",
   "execution_count": 4,
   "id": "1c9256b6",
   "metadata": {},
   "outputs": [],
   "source": [
    "review_model = pickle.load(open(\"review_model.pkl\", 'rb'))"
   ]
  },
  {
   "cell_type": "code",
   "execution_count": 5,
   "id": "2173dcda",
   "metadata": {},
   "outputs": [],
   "source": [
    "review_cv = pickle.load(open(\"review_vectorizer.pkl\", 'rb'))"
   ]
  },
  {
   "cell_type": "code",
   "execution_count": null,
   "id": "5ceef320",
   "metadata": {},
   "outputs": [
    {
     "name": "stderr",
     "output_type": "stream",
     "text": [
      "[nltk_data] Downloading package punkt to\n",
      "[nltk_data]     C:\\Users\\morap\\AppData\\Roaming\\nltk_data...\n"
     ]
    }
   ],
   "source": [
    "from nltk.stem import WordNetLemmatizer\n",
    "from sklearn.feature_extraction.text import CountVectorizer\n",
    "import nltk\n",
    "nltk.download('punkt')\n",
    "nltk.download('wordnet')"
   ]
  },
  {
   "cell_type": "code",
   "execution_count": null,
   "id": "ee463be3",
   "metadata": {},
   "outputs": [],
   "source": [
    "def pre_processing(text):\n",
    "    lemmatizer = WordNetLemmatizer()\n",
    "    text = text.lower()\n",
    "    text = re.sub('[0-9]+','num',text)\n",
    "    word_list = nltk.word_tokenize(text)\n",
    "    word_list =  [lemmatizer.lemmatize(item) for item in word_list]\n",
    "    return ' '.join(word_list)"
   ]
  },
  {
   "cell_type": "code",
   "execution_count": null,
   "id": "9d9c7ca7",
   "metadata": {},
   "outputs": [],
   "source": [
    "review_text = pre_processing(\"The sneakers are great\")"
   ]
  },
  {
   "cell_type": "code",
   "execution_count": null,
   "id": "84319058",
   "metadata": {},
   "outputs": [],
   "source": [
    "prob = review_model.predict_proba(review_cv.transform([review_text]))\n",
    "prob # [[negative, positive]]"
   ]
  },
  {
   "cell_type": "code",
   "execution_count": null,
   "id": "892170e5",
   "metadata": {},
   "outputs": [],
   "source": [
    "prob[0][0] # negative review"
   ]
  },
  {
   "cell_type": "code",
   "execution_count": null,
   "id": "0019f35f",
   "metadata": {},
   "outputs": [],
   "source": [
    "prob[0][1] # positive review"
   ]
  },
  {
   "cell_type": "code",
   "execution_count": null,
   "id": "9c3cfcff",
   "metadata": {},
   "outputs": [],
   "source": [
    "review_text2 = pre_processing(\"The sneakers are poor\")"
   ]
  },
  {
   "cell_type": "code",
   "execution_count": null,
   "id": "04e2c06a",
   "metadata": {},
   "outputs": [],
   "source": [
    "prob2 = review_model.predict_proba(review_cv.transform([review_text2]))\n",
    "prob2"
   ]
  },
  {
   "cell_type": "code",
   "execution_count": null,
   "id": "c8d0a853",
   "metadata": {},
   "outputs": [],
   "source": [
    "prob2[0][0] # negatuve review"
   ]
  },
  {
   "cell_type": "code",
   "execution_count": null,
   "id": "a72c9eb8",
   "metadata": {},
   "outputs": [],
   "source": [
    "prob2[0][1] # positive review"
   ]
  }
 ],
 "metadata": {
  "kernelspec": {
   "display_name": "Python 3 (ipykernel)",
   "language": "python",
   "name": "python3"
  },
  "language_info": {
   "codemirror_mode": {
    "name": "ipython",
    "version": 3
   },
   "file_extension": ".py",
   "mimetype": "text/x-python",
   "name": "python",
   "nbconvert_exporter": "python",
   "pygments_lexer": "ipython3",
   "version": "3.9.12"
  }
 },
 "nbformat": 4,
 "nbformat_minor": 5
}
