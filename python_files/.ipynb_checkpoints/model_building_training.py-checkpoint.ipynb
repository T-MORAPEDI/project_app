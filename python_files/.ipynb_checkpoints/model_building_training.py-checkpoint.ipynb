{
 "cells": [
  {
   "cell_type": "markdown",
   "id": "25b0d4d0",
   "metadata": {},
   "source": [
    "\n",
    "# TSHEPANG MORAPEDI (201802331)\n",
    "---\n",
    "## Machine Learning API: Sentiment Analysis Service for an Online Sneaker Store\n",
    "### NSTD842: Special Topic in Data Science\n",
    "---\n",
    "### 30 SEPTEMBER 2023\n",
    "---"
   ]
  },
  {
   "cell_type": "markdown",
   "id": "102ef595",
   "metadata": {},
   "source": [
    "## The problem this project aims to solve:\n",
    "\n",
    "How can the online sneaker store automate the process of analysing and understanding the sentiment behind customer reviews, and how can this analysis be seamlessly integrated into the store’s website for real-time insights?\n",
    "\n",
    "## SOLUTION\n",
    "\n",
    "To address this problem, this project proposes the development and deployment\n",
    "of a Sentiment Analysis Service"
   ]
  },
  {
   "cell_type": "markdown",
   "id": "a140c09e",
   "metadata": {},
   "source": [
    "# 1. DATA PREPROCESSING"
   ]
  },
  {
   "cell_type": "code",
   "execution_count": 1,
   "id": "5bd0285e",
   "metadata": {},
   "outputs": [
    {
     "name": "stderr",
     "output_type": "stream",
     "text": [
      "[nltk_data] Downloading package stopwords to\n",
      "[nltk_data]     C:\\Users\\morap\\AppData\\Roaming\\nltk_data...\n",
      "[nltk_data]   Package stopwords is already up-to-date!\n"
     ]
    }
   ],
   "source": [
    "import pandas as pd\n",
    "import numpy as np\n",
    "import matplotlib.pyplot as plt\n",
    "import seaborn as sns\n",
    "import re\n",
    "import string\n",
    "import time\n",
    "from sklearn.model_selection import train_test_split\n",
    "import pickle\n",
    "from nltk.corpus import stopwords\n",
    "from sklearn.feature_extraction.text import CountVectorizer, TfidfVectorizer\n",
    "from sklearn.metrics import classification_report\n",
    "# NLTK Stop words\n",
    "import nltk\n",
    "nltk.download('stopwords')\n",
    "from nltk.corpus import stopwords\n",
    "stop_words = stopwords.words('english')\n",
    "\n",
    "stop_words.extend(['make', 'want', 'seem', 'run', 'need', 'even', 'not', 'would', 'say', 'could', '_', \n",
    "                'be', 'know', 'go', 'get', 'do','get','far','also','way','app','usd','eur','jai','hind','jai_hind',\n",
    "'done', 'try', 'many','from', 'subject', 're', 'edu','some', 'nice', 'thank','singh','mast','untuk','apne','nise','vgood',\n",
    "'think', 'see', 'rather', 'lot', 'line', 'even', 'also', 'may', 'use','goog','nce','aap','thik','hai','setu','aarogya_setu','aarogya',\n",
    "'take', 'come','recommend','recommended','paypal','paytm', 'let','ad','add'])\n",
    "\n",
    "from nltk.stem import PorterStemmer\n",
    "#from google.colab import files\n",
    "%matplotlib inline"
   ]
  },
  {
   "cell_type": "code",
   "execution_count": 2,
   "id": "ea513c80",
   "metadata": {},
   "outputs": [],
   "source": [
    "data = pd.read_csv('sneakers_Reviews_Dataset.csv', sep = ';')"
   ]
  },
  {
   "cell_type": "code",
   "execution_count": 3,
   "id": "0478478f",
   "metadata": {},
   "outputs": [
    {
     "data": {
      "text/html": [
       "<div>\n",
       "<style scoped>\n",
       "    .dataframe tbody tr th:only-of-type {\n",
       "        vertical-align: middle;\n",
       "    }\n",
       "\n",
       "    .dataframe tbody tr th {\n",
       "        vertical-align: top;\n",
       "    }\n",
       "\n",
       "    .dataframe thead th {\n",
       "        text-align: right;\n",
       "    }\n",
       "</style>\n",
       "<table border=\"1\" class=\"dataframe\">\n",
       "  <thead>\n",
       "    <tr style=\"text-align: right;\">\n",
       "      <th></th>\n",
       "      <th>review_id</th>\n",
       "      <th>product_id</th>\n",
       "      <th>user_id</th>\n",
       "      <th>rating</th>\n",
       "      <th>review_text</th>\n",
       "      <th>timestamp</th>\n",
       "    </tr>\n",
       "  </thead>\n",
       "  <tbody>\n",
       "    <tr>\n",
       "      <th>0</th>\n",
       "      <td>1</td>\n",
       "      <td>103</td>\n",
       "      <td>16074</td>\n",
       "      <td>3</td>\n",
       "      <td>Comfortable, but not durable.</td>\n",
       "      <td>2022/11/07 05:30</td>\n",
       "    </tr>\n",
       "    <tr>\n",
       "      <th>1</th>\n",
       "      <td>2</td>\n",
       "      <td>436</td>\n",
       "      <td>11648</td>\n",
       "      <td>4</td>\n",
       "      <td>Highly recommend!</td>\n",
       "      <td>2021/09/11 02:53</td>\n",
       "    </tr>\n",
       "    <tr>\n",
       "      <th>2</th>\n",
       "      <td>3</td>\n",
       "      <td>861</td>\n",
       "      <td>46508</td>\n",
       "      <td>2</td>\n",
       "      <td>Do not recommend.</td>\n",
       "      <td>2022/12/14 13:24</td>\n",
       "    </tr>\n",
       "    <tr>\n",
       "      <th>3</th>\n",
       "      <td>4</td>\n",
       "      <td>271</td>\n",
       "      <td>40094</td>\n",
       "      <td>3</td>\n",
       "      <td>Comfortable, but not durable.</td>\n",
       "      <td>2021/11/29 04:01</td>\n",
       "    </tr>\n",
       "    <tr>\n",
       "      <th>4</th>\n",
       "      <td>5</td>\n",
       "      <td>107</td>\n",
       "      <td>49897</td>\n",
       "      <td>4</td>\n",
       "      <td>Will buy again.</td>\n",
       "      <td>2023/04/24 12:12</td>\n",
       "    </tr>\n",
       "    <tr>\n",
       "      <th>...</th>\n",
       "      <td>...</td>\n",
       "      <td>...</td>\n",
       "      <td>...</td>\n",
       "      <td>...</td>\n",
       "      <td>...</td>\n",
       "      <td>...</td>\n",
       "    </tr>\n",
       "    <tr>\n",
       "      <th>99995</th>\n",
       "      <td>99996</td>\n",
       "      <td>650</td>\n",
       "      <td>32166</td>\n",
       "      <td>1</td>\n",
       "      <td>Falling apart after a week.</td>\n",
       "      <td>2023/01/22 00:37</td>\n",
       "    </tr>\n",
       "    <tr>\n",
       "      <th>99996</th>\n",
       "      <td>99997</td>\n",
       "      <td>847</td>\n",
       "      <td>35989</td>\n",
       "      <td>5</td>\n",
       "      <td>Highly recommend!</td>\n",
       "      <td>2023/08/12 11:55</td>\n",
       "    </tr>\n",
       "    <tr>\n",
       "      <th>99997</th>\n",
       "      <td>99998</td>\n",
       "      <td>864</td>\n",
       "      <td>25448</td>\n",
       "      <td>5</td>\n",
       "      <td>Will buy again.</td>\n",
       "      <td>2023/04/20 23:11</td>\n",
       "    </tr>\n",
       "    <tr>\n",
       "      <th>99998</th>\n",
       "      <td>99999</td>\n",
       "      <td>963</td>\n",
       "      <td>21645</td>\n",
       "      <td>1</td>\n",
       "      <td>Waste of money.</td>\n",
       "      <td>2021/12/18 10:14</td>\n",
       "    </tr>\n",
       "    <tr>\n",
       "      <th>99999</th>\n",
       "      <td>100000</td>\n",
       "      <td>792</td>\n",
       "      <td>8120</td>\n",
       "      <td>1</td>\n",
       "      <td>Waste of money.</td>\n",
       "      <td>2023/05/13 08:36</td>\n",
       "    </tr>\n",
       "  </tbody>\n",
       "</table>\n",
       "<p>100000 rows × 6 columns</p>\n",
       "</div>"
      ],
      "text/plain": [
       "       review_id  product_id  user_id  rating                    review_text  \\\n",
       "0              1         103    16074       3  Comfortable, but not durable.   \n",
       "1              2         436    11648       4              Highly recommend!   \n",
       "2              3         861    46508       2              Do not recommend.   \n",
       "3              4         271    40094       3  Comfortable, but not durable.   \n",
       "4              5         107    49897       4                Will buy again.   \n",
       "...          ...         ...      ...     ...                            ...   \n",
       "99995      99996         650    32166       1    Falling apart after a week.   \n",
       "99996      99997         847    35989       5              Highly recommend!   \n",
       "99997      99998         864    25448       5                Will buy again.   \n",
       "99998      99999         963    21645       1                Waste of money.   \n",
       "99999     100000         792     8120       1                Waste of money.   \n",
       "\n",
       "              timestamp  \n",
       "0      2022/11/07 05:30  \n",
       "1      2021/09/11 02:53  \n",
       "2      2022/12/14 13:24  \n",
       "3      2021/11/29 04:01  \n",
       "4      2023/04/24 12:12  \n",
       "...                 ...  \n",
       "99995  2023/01/22 00:37  \n",
       "99996  2023/08/12 11:55  \n",
       "99997  2023/04/20 23:11  \n",
       "99998  2021/12/18 10:14  \n",
       "99999  2023/05/13 08:36  \n",
       "\n",
       "[100000 rows x 6 columns]"
      ]
     },
     "execution_count": 3,
     "metadata": {},
     "output_type": "execute_result"
    }
   ],
   "source": [
    "data"
   ]
  },
  {
   "cell_type": "code",
   "execution_count": 4,
   "id": "d35dd9ba",
   "metadata": {},
   "outputs": [
    {
     "data": {
      "text/html": [
       "<div>\n",
       "<style scoped>\n",
       "    .dataframe tbody tr th:only-of-type {\n",
       "        vertical-align: middle;\n",
       "    }\n",
       "\n",
       "    .dataframe tbody tr th {\n",
       "        vertical-align: top;\n",
       "    }\n",
       "\n",
       "    .dataframe thead th {\n",
       "        text-align: right;\n",
       "    }\n",
       "</style>\n",
       "<table border=\"1\" class=\"dataframe\">\n",
       "  <thead>\n",
       "    <tr style=\"text-align: right;\">\n",
       "      <th></th>\n",
       "      <th>review_id</th>\n",
       "      <th>product_id</th>\n",
       "      <th>user_id</th>\n",
       "      <th>rating</th>\n",
       "      <th>review_text</th>\n",
       "      <th>timestamp</th>\n",
       "    </tr>\n",
       "  </thead>\n",
       "  <tbody>\n",
       "    <tr>\n",
       "      <th>41490</th>\n",
       "      <td>41491</td>\n",
       "      <td>22</td>\n",
       "      <td>15675</td>\n",
       "      <td>4</td>\n",
       "      <td>Will buy again.</td>\n",
       "      <td>2022/08/23 22:13</td>\n",
       "    </tr>\n",
       "    <tr>\n",
       "      <th>13162</th>\n",
       "      <td>13163</td>\n",
       "      <td>570</td>\n",
       "      <td>39734</td>\n",
       "      <td>3</td>\n",
       "      <td>Comfortable, but not durable.</td>\n",
       "      <td>2023/02/28 18:03</td>\n",
       "    </tr>\n",
       "    <tr>\n",
       "      <th>79062</th>\n",
       "      <td>79063</td>\n",
       "      <td>774</td>\n",
       "      <td>7277</td>\n",
       "      <td>5</td>\n",
       "      <td>Very comfortable.</td>\n",
       "      <td>2021/11/04 21:46</td>\n",
       "    </tr>\n",
       "    <tr>\n",
       "      <th>59507</th>\n",
       "      <td>59508</td>\n",
       "      <td>106</td>\n",
       "      <td>11521</td>\n",
       "      <td>4</td>\n",
       "      <td>I love these sneakers.</td>\n",
       "      <td>2022/10/10 23:45</td>\n",
       "    </tr>\n",
       "    <tr>\n",
       "      <th>78291</th>\n",
       "      <td>78292</td>\n",
       "      <td>204</td>\n",
       "      <td>4392</td>\n",
       "      <td>1</td>\n",
       "      <td>Waste of money.</td>\n",
       "      <td>2022/03/01 04:16</td>\n",
       "    </tr>\n",
       "    <tr>\n",
       "      <th>61116</th>\n",
       "      <td>61117</td>\n",
       "      <td>367</td>\n",
       "      <td>48604</td>\n",
       "      <td>5</td>\n",
       "      <td>Great quality!</td>\n",
       "      <td>2023/02/10 05:23</td>\n",
       "    </tr>\n",
       "    <tr>\n",
       "      <th>8420</th>\n",
       "      <td>8421</td>\n",
       "      <td>749</td>\n",
       "      <td>34921</td>\n",
       "      <td>2</td>\n",
       "      <td>Do not recommend.</td>\n",
       "      <td>2021/09/14 01:39</td>\n",
       "    </tr>\n",
       "    <tr>\n",
       "      <th>78242</th>\n",
       "      <td>78243</td>\n",
       "      <td>968</td>\n",
       "      <td>45789</td>\n",
       "      <td>4</td>\n",
       "      <td>Will buy again.</td>\n",
       "      <td>2023/04/20 21:38</td>\n",
       "    </tr>\n",
       "    <tr>\n",
       "      <th>75614</th>\n",
       "      <td>75615</td>\n",
       "      <td>753</td>\n",
       "      <td>5536</td>\n",
       "      <td>1</td>\n",
       "      <td>Falling apart after a week.</td>\n",
       "      <td>2023/03/08 20:41</td>\n",
       "    </tr>\n",
       "    <tr>\n",
       "      <th>71080</th>\n",
       "      <td>71081</td>\n",
       "      <td>234</td>\n",
       "      <td>2619</td>\n",
       "      <td>4</td>\n",
       "      <td>Will buy again.</td>\n",
       "      <td>2021/10/22 17:55</td>\n",
       "    </tr>\n",
       "  </tbody>\n",
       "</table>\n",
       "</div>"
      ],
      "text/plain": [
       "       review_id  product_id  user_id  rating                    review_text  \\\n",
       "41490      41491          22    15675       4                Will buy again.   \n",
       "13162      13163         570    39734       3  Comfortable, but not durable.   \n",
       "79062      79063         774     7277       5              Very comfortable.   \n",
       "59507      59508         106    11521       4         I love these sneakers.   \n",
       "78291      78292         204     4392       1                Waste of money.   \n",
       "61116      61117         367    48604       5                 Great quality!   \n",
       "8420        8421         749    34921       2              Do not recommend.   \n",
       "78242      78243         968    45789       4                Will buy again.   \n",
       "75614      75615         753     5536       1    Falling apart after a week.   \n",
       "71080      71081         234     2619       4                Will buy again.   \n",
       "\n",
       "              timestamp  \n",
       "41490  2022/08/23 22:13  \n",
       "13162  2023/02/28 18:03  \n",
       "79062  2021/11/04 21:46  \n",
       "59507  2022/10/10 23:45  \n",
       "78291  2022/03/01 04:16  \n",
       "61116  2023/02/10 05:23  \n",
       "8420   2021/09/14 01:39  \n",
       "78242  2023/04/20 21:38  \n",
       "75614  2023/03/08 20:41  \n",
       "71080  2021/10/22 17:55  "
      ]
     },
     "execution_count": 4,
     "metadata": {},
     "output_type": "execute_result"
    }
   ],
   "source": [
    "data['review_text'] = data['review_text'].apply(str)\n",
    "data.sample(10)"
   ]
  },
  {
   "cell_type": "code",
   "execution_count": 5,
   "id": "e5ad7b0b",
   "metadata": {},
   "outputs": [
    {
     "data": {
      "text/plain": [
       "(100000, 6)"
      ]
     },
     "execution_count": 5,
     "metadata": {},
     "output_type": "execute_result"
    }
   ],
   "source": [
    "data.shape"
   ]
  },
  {
   "cell_type": "code",
   "execution_count": 6,
   "id": "c836de9b",
   "metadata": {},
   "outputs": [
    {
     "data": {
      "text/plain": [
       "review_id      0\n",
       "product_id     0\n",
       "user_id        0\n",
       "rating         0\n",
       "review_text    0\n",
       "timestamp      0\n",
       "dtype: int64"
      ]
     },
     "execution_count": 6,
     "metadata": {},
     "output_type": "execute_result"
    }
   ],
   "source": [
    "data.isnull().sum()"
   ]
  },
  {
   "cell_type": "code",
   "execution_count": 7,
   "id": "47039238",
   "metadata": {},
   "outputs": [
    {
     "data": {
      "text/plain": [
       "4    20096\n",
       "2    20066\n",
       "5    20006\n",
       "3    19924\n",
       "1    19908\n",
       "Name: rating, dtype: int64"
      ]
     },
     "execution_count": 7,
     "metadata": {},
     "output_type": "execute_result"
    }
   ],
   "source": [
    "data['rating'].value_counts()"
   ]
  },
  {
   "cell_type": "code",
   "execution_count": 8,
   "id": "4d848f9c",
   "metadata": {},
   "outputs": [
    {
     "data": {
      "text/plain": [
       "array(['Comfortable, but not durable.', 'Highly recommend!',\n",
       "       'Do not recommend.', 'Will buy again.', 'Very uncomfortable.',\n",
       "       'They are okay.', 'Poor quality!', 'I love these sneakers.',\n",
       "       'Great quality!', 'Waste of money.', 'Very comfortable.',\n",
       "       'Average sneakers.', 'Falling apart after a week.',\n",
       "       'Decent quality.'], dtype=object)"
      ]
     },
     "execution_count": 8,
     "metadata": {},
     "output_type": "execute_result"
    }
   ],
   "source": [
    "data['review_text'].unique()"
   ]
  },
  {
   "cell_type": "code",
   "execution_count": 9,
   "id": "974ba993",
   "metadata": {},
   "outputs": [
    {
     "data": {
      "text/plain": [
       "I love these sneakers.           8111\n",
       "Will buy again.                  8082\n",
       "Do not recommend.                8067\n",
       "Falling apart after a week.      8035\n",
       "Very uncomfortable.              8009\n",
       "Highly recommend!                7984\n",
       "Poor quality!                    7970\n",
       "Great quality!                   7966\n",
       "Very comfortable.                7959\n",
       "Waste of money.                  7893\n",
       "Average sneakers.                5078\n",
       "Decent quality.                  4965\n",
       "Comfortable, but not durable.    4960\n",
       "They are okay.                   4921\n",
       "Name: review_text, dtype: int64"
      ]
     },
     "execution_count": 9,
     "metadata": {},
     "output_type": "execute_result"
    }
   ],
   "source": [
    "data['review_text'].value_counts()"
   ]
  },
  {
   "cell_type": "code",
   "execution_count": 10,
   "id": "47b34229",
   "metadata": {
    "scrolled": true
   },
   "outputs": [
    {
     "data": {
      "text/plain": [
       "array([ 103,  436,  861,  271,  107,   72,  701,   21,  615,  122,  467,\n",
       "        215,  331,  459,   88,  373,  100,  872,  664,  131,  662,  309,\n",
       "        770,  344,  492,  414,  806,  386,  192,  956,  277,  161,  460,\n",
       "        314,   22,  253,  748,  857,  561,  475,   59,  511,  682,  476,\n",
       "        700,  976,  783,  190,  958,  687,  563,  876,  567,  244,  832,\n",
       "        505,  485,  819,  647,  841,  167,  274,  388,  601,  316,   14,\n",
       "        242,  777,  346,  565,  898,  340,   92,  367,  455,  428,  509,\n",
       "        776,  943,   35,  206,   81,  932,  562,    2,  390,  566,  106,\n",
       "        772,  822,  477,  703,  402,  730,  556,  162,  202,  996,  270,\n",
       "        863,  816,  456,  462,  727,  252,  702,  296,  725,  720,  749,\n",
       "        338,  879,   53,  792,  922,  217,  764,  188,  380,  493,   41,\n",
       "        157,   15,  813,   65,  839,  521,  129,  648,  472,   63,  139,\n",
       "        499,  593,  392,  675,  419,  289,  379,  773,  490,  231,   28,\n",
       "        135,  201,  840,  780,  930,   33,   48,  503,  407,  574,  728,\n",
       "        805,   99,  684,  726,  987,  547,  961,  739,  613,  643,  769,\n",
       "          5,  218,  767,  398,  871,  795,  393,  207,  858,  554,  892,\n",
       "        461,  691,  575,  864,  743,  241,  564,   96,  900,  734,  655,\n",
       "        171,  541,   36,  525,  160,  699,  243,   86,  796,  578,  557,\n",
       "        953,  646,  620,  798,  640,  506,  348,  473,  225,  385,  377,\n",
       "        283,  633,  628,  973,  745,  259,  359,  710,  411,  649,  318,\n",
       "        677,  234,  975,  827,  374,  672,  608,  233,  692,  113,  830,\n",
       "        497,  442,  268,  510,  807,  387,  625,  952,  642,  220,  855,\n",
       "        997,  736,  403,  638,  130,  416,  247,  836,  439,  203,  184,\n",
       "        123,  401,  294,  280,  837,  884,  610,  198,  982,  907,  752,\n",
       "        144,  609,  124,  187,  326,  464,  349,  771,  660,  955,  963,\n",
       "        147,  148,  711,  820,  489,  929,  936,  551,  641,  779,  988,\n",
       "        946,  151,  415,  990,  298,  611,  263,  624,  572,  881,  897,\n",
       "        304,  254,  652,  453,   37,    9,  659,  208,  404,  152,   54,\n",
       "        120,  673,  920,  587,  968,  420,  422,  104,  852,  227,  112,\n",
       "        153,  914,  896,  878,  706,  163,  957,  681,  580,  801,  916,\n",
       "        504,  195,  688,  883,  470,  375,  750,  670,   38,  230,  365,\n",
       "        438,   27,  226,  284,  960,  481,  829,  516,   49,  512,   17,\n",
       "        172,  158,   46,  518,  302,  181,  607,  993,  116,  191,  981,\n",
       "        928,  983,  256,  323,  128,   18,  793,  735,  570,  686,  626,\n",
       "        288,  854,  663,  962,  639,  155,  986,  785,  811,  246,  176,\n",
       "         39,  759,  538,  867,  818,  921,  408,  828,  903,  825,  685,\n",
       "         20,  321,  400,  654,  972,  471,  143,  354,  834,  800,  959,\n",
       "         51,  665,  698,  125,  150,  342,  305,  838,  444,  264,  196,\n",
       "        774,  877,  992,  350,   47,  823,  656,  269,  370,  636,  657,\n",
       "        831,  787,  604,   58,  951,  741,  474,  117,  791,  127,  908,\n",
       "        634,  513,  751,  802,  118,  560,  488,  237,  885,  272,  189,\n",
       "        999,  704,  447,  581,  790,   76,  154,  435,  697,  285,  974,\n",
       "         69,   94,  204,  912,  432,  341,  612,  357,   23,  762,  522,\n",
       "        758,  180,  223,  906,  325,   16,  336,  258,  690,  545,  427,\n",
       "        835,  577,  417,  168,  842,   43,  397,   12,  754,  849,   90,\n",
       "        605,  970,  602,  418,  115,  617,  826,  501,   75,  413,  376,\n",
       "        729,  761,  676,  394,  869,  457,  689,  548,  978,  369,  695,\n",
       "        279,  873,  273,   62,  596,  880,   19,  177,  396,  445,  915,\n",
       "        265,  718,  384,  851,   25,  948,  891,  469,  484,  569,  109,\n",
       "        693,   42,  186,  935,  133,  733,  235,  843,  658,  588,   74,\n",
       "        954,  913,  519,  174,  653,  170,  194,  517,   29,  165,  339,\n",
       "        496,  833,  500,  327,  301,  132,  804,   70,  182,   91,  714,\n",
       "        531,  126,  451,  173,  895,  361,    1,  508,  409,  824,  934,\n",
       "        134,  815,  149,   80,  886,  213,  229,  532,  441,  526,  971,\n",
       "        330,  784,  358,  668,    8,  178,  540,  732,  740,  923,  502,\n",
       "        145,  724,  925,  909,  558,  594,  709,  450,   10,  251,  119,\n",
       "        146,  224,  239,  853,  282,  105,  405,  977,  645,  870,  437,\n",
       "        458,   83,   85,   78,  717,  446,  449,   34,   95,  250,  674,\n",
       "        306,  236,  389,  763,  303,  919,  910,  738,   98,  850,  335,\n",
       "        859,  994,  308,  249,  166,  984,  542,  797,  138,  546,  205,\n",
       "        747,  111,  183,  848,  520,  360,  696,  281,  667,   93,   61,\n",
       "        789,  466,  534,  524,  945,   73,  794,  121,  214,   56,  573,\n",
       "        337,   26,  257,  719,  216,  666,  312,    7,    3,  623,  363,\n",
       "        985,  631,  812,  537,  212,   67,  228,  595,  425,  320,  443,\n",
       "        315,  966,  582,  137,  899,  543,   40,    6,  322,  468,    4,\n",
       "        847,  606,  998,  947,  715,  300,  410,  140,  559,  550,  894,\n",
       "        868,  845,  902,  261,  650,   13,  319,  329,  911,  817,  334,\n",
       "        995,  918,  291,   89,  295,  616,  637,  865,  821,  579,  391,\n",
       "        179,  448,  669,  478,   97,  598,  635,  159,  324,  844,  627,\n",
       "        755,  292,   11,  712,  141,  210,  683,  356,  888,  799,  378,\n",
       "        905,  297,  814,  622,  950,  371,  661,  431,  969,  313,  937,\n",
       "        803,  347,  529,  939,  967,  856,  156,  882,   84,  630,  723,\n",
       "         32,  429,  286,  424,  590,  175,  114,  222,  678,  644,   55,\n",
       "        778,  979,   87,  328,  491,  452,  944,  775,  381,   82,  514,\n",
       "        523,  746,  707,  940,  364,  632,  721,  209,  552,  278,  494,\n",
       "        599,  629,  874,  287,  731,  576,  705,  744,  310,  406,  507,\n",
       "        482,  713,  498,  108,  102,  866,  275,   44,  592,  991,  200,\n",
       "        571,  782,  372,  527,  722,  426,  311,  781,  245,  440,  266,\n",
       "        926,  142,  293,  949,  585,  399,  889,  964,  584,  366,  753,\n",
       "        890,  893,  267,  332,  463,  395,  901,  454,  965,  568,  262,\n",
       "        353,  345,   31,  535,  927,  589,  989,  586,  412,  716,   79,\n",
       "        430,  887,  539,  382,  786,   60,  591,  199,  536,   64,  495,\n",
       "        544,  553,  317,  860,  383,  515,  809,  904,  307,  549,  352,\n",
       "        924,  862,   24,  938,  530,  737,   66,  276,  980,  933,  757,\n",
       "        185,  193,  614,  917,  942,  221,  343,  619,  351,  583,  362,\n",
       "         50,  483,   77,  597,  621,  708,  618,  248,  101,  931,  788,\n",
       "        768,  164,  110,  238,  846,  260,  742,  423,  465,  232,  651,\n",
       "        211,  368,  169,  421,   30,  136, 1000,   57,  941,  766,  875,\n",
       "        533,  760,  679,   68,  680,  486,  434,  219,  603,  255,  480,\n",
       "        555,  333,  240,  290,  479,  487,  810,  355,   45,  528,  756,\n",
       "        600,  433,  197,  694,  299,   52,   71,  765,  671,  808],\n",
       "      dtype=int64)"
      ]
     },
     "execution_count": 10,
     "metadata": {},
     "output_type": "execute_result"
    }
   ],
   "source": [
    "data['product_id'].unique()"
   ]
  },
  {
   "cell_type": "code",
   "execution_count": 11,
   "id": "a1761480",
   "metadata": {},
   "outputs": [
    {
     "data": {
      "text/plain": [
       "149    136\n",
       "794    128\n",
       "21     126\n",
       "601    126\n",
       "849    125\n",
       "      ... \n",
       "50      76\n",
       "34      76\n",
       "788     76\n",
       "127     73\n",
       "454     73\n",
       "Name: product_id, Length: 1000, dtype: int64"
      ]
     },
     "execution_count": 11,
     "metadata": {},
     "output_type": "execute_result"
    }
   ],
   "source": [
    "data['product_id'].value_counts()"
   ]
  },
  {
   "cell_type": "code",
   "execution_count": 12,
   "id": "a066b02f",
   "metadata": {},
   "outputs": [],
   "source": [
    "import re\n",
    "def remove_tags(raw_text):\n",
    "    cleaned_text = re.sub(re.compile('<.*?>'), '', raw_text)\n",
    "    return cleaned_text"
   ]
  },
  {
   "cell_type": "code",
   "execution_count": 13,
   "id": "2e62196a",
   "metadata": {},
   "outputs": [],
   "source": [
    "data['review_text'] = data['review_text'].apply(remove_tags)"
   ]
  },
  {
   "cell_type": "code",
   "execution_count": 14,
   "id": "b5cca09c",
   "metadata": {},
   "outputs": [
    {
     "data": {
      "text/html": [
       "<div>\n",
       "<style scoped>\n",
       "    .dataframe tbody tr th:only-of-type {\n",
       "        vertical-align: middle;\n",
       "    }\n",
       "\n",
       "    .dataframe tbody tr th {\n",
       "        vertical-align: top;\n",
       "    }\n",
       "\n",
       "    .dataframe thead th {\n",
       "        text-align: right;\n",
       "    }\n",
       "</style>\n",
       "<table border=\"1\" class=\"dataframe\">\n",
       "  <thead>\n",
       "    <tr style=\"text-align: right;\">\n",
       "      <th></th>\n",
       "      <th>review_id</th>\n",
       "      <th>product_id</th>\n",
       "      <th>user_id</th>\n",
       "      <th>rating</th>\n",
       "      <th>review_text</th>\n",
       "      <th>timestamp</th>\n",
       "    </tr>\n",
       "  </thead>\n",
       "  <tbody>\n",
       "    <tr>\n",
       "      <th>0</th>\n",
       "      <td>1</td>\n",
       "      <td>103</td>\n",
       "      <td>16074</td>\n",
       "      <td>3</td>\n",
       "      <td>Comfortable, but not durable.</td>\n",
       "      <td>2022/11/07 05:30</td>\n",
       "    </tr>\n",
       "    <tr>\n",
       "      <th>1</th>\n",
       "      <td>2</td>\n",
       "      <td>436</td>\n",
       "      <td>11648</td>\n",
       "      <td>4</td>\n",
       "      <td>Highly recommend!</td>\n",
       "      <td>2021/09/11 02:53</td>\n",
       "    </tr>\n",
       "    <tr>\n",
       "      <th>2</th>\n",
       "      <td>3</td>\n",
       "      <td>861</td>\n",
       "      <td>46508</td>\n",
       "      <td>2</td>\n",
       "      <td>Do not recommend.</td>\n",
       "      <td>2022/12/14 13:24</td>\n",
       "    </tr>\n",
       "    <tr>\n",
       "      <th>3</th>\n",
       "      <td>4</td>\n",
       "      <td>271</td>\n",
       "      <td>40094</td>\n",
       "      <td>3</td>\n",
       "      <td>Comfortable, but not durable.</td>\n",
       "      <td>2021/11/29 04:01</td>\n",
       "    </tr>\n",
       "    <tr>\n",
       "      <th>4</th>\n",
       "      <td>5</td>\n",
       "      <td>107</td>\n",
       "      <td>49897</td>\n",
       "      <td>4</td>\n",
       "      <td>Will buy again.</td>\n",
       "      <td>2023/04/24 12:12</td>\n",
       "    </tr>\n",
       "    <tr>\n",
       "      <th>...</th>\n",
       "      <td>...</td>\n",
       "      <td>...</td>\n",
       "      <td>...</td>\n",
       "      <td>...</td>\n",
       "      <td>...</td>\n",
       "      <td>...</td>\n",
       "    </tr>\n",
       "    <tr>\n",
       "      <th>99995</th>\n",
       "      <td>99996</td>\n",
       "      <td>650</td>\n",
       "      <td>32166</td>\n",
       "      <td>1</td>\n",
       "      <td>Falling apart after a week.</td>\n",
       "      <td>2023/01/22 00:37</td>\n",
       "    </tr>\n",
       "    <tr>\n",
       "      <th>99996</th>\n",
       "      <td>99997</td>\n",
       "      <td>847</td>\n",
       "      <td>35989</td>\n",
       "      <td>5</td>\n",
       "      <td>Highly recommend!</td>\n",
       "      <td>2023/08/12 11:55</td>\n",
       "    </tr>\n",
       "    <tr>\n",
       "      <th>99997</th>\n",
       "      <td>99998</td>\n",
       "      <td>864</td>\n",
       "      <td>25448</td>\n",
       "      <td>5</td>\n",
       "      <td>Will buy again.</td>\n",
       "      <td>2023/04/20 23:11</td>\n",
       "    </tr>\n",
       "    <tr>\n",
       "      <th>99998</th>\n",
       "      <td>99999</td>\n",
       "      <td>963</td>\n",
       "      <td>21645</td>\n",
       "      <td>1</td>\n",
       "      <td>Waste of money.</td>\n",
       "      <td>2021/12/18 10:14</td>\n",
       "    </tr>\n",
       "    <tr>\n",
       "      <th>99999</th>\n",
       "      <td>100000</td>\n",
       "      <td>792</td>\n",
       "      <td>8120</td>\n",
       "      <td>1</td>\n",
       "      <td>Waste of money.</td>\n",
       "      <td>2023/05/13 08:36</td>\n",
       "    </tr>\n",
       "  </tbody>\n",
       "</table>\n",
       "<p>100000 rows × 6 columns</p>\n",
       "</div>"
      ],
      "text/plain": [
       "       review_id  product_id  user_id  rating                    review_text  \\\n",
       "0              1         103    16074       3  Comfortable, but not durable.   \n",
       "1              2         436    11648       4              Highly recommend!   \n",
       "2              3         861    46508       2              Do not recommend.   \n",
       "3              4         271    40094       3  Comfortable, but not durable.   \n",
       "4              5         107    49897       4                Will buy again.   \n",
       "...          ...         ...      ...     ...                            ...   \n",
       "99995      99996         650    32166       1    Falling apart after a week.   \n",
       "99996      99997         847    35989       5              Highly recommend!   \n",
       "99997      99998         864    25448       5                Will buy again.   \n",
       "99998      99999         963    21645       1                Waste of money.   \n",
       "99999     100000         792     8120       1                Waste of money.   \n",
       "\n",
       "              timestamp  \n",
       "0      2022/11/07 05:30  \n",
       "1      2021/09/11 02:53  \n",
       "2      2022/12/14 13:24  \n",
       "3      2021/11/29 04:01  \n",
       "4      2023/04/24 12:12  \n",
       "...                 ...  \n",
       "99995  2023/01/22 00:37  \n",
       "99996  2023/08/12 11:55  \n",
       "99997  2023/04/20 23:11  \n",
       "99998  2021/12/18 10:14  \n",
       "99999  2023/05/13 08:36  \n",
       "\n",
       "[100000 rows x 6 columns]"
      ]
     },
     "execution_count": 14,
     "metadata": {},
     "output_type": "execute_result"
    }
   ],
   "source": [
    "data"
   ]
  },
  {
   "cell_type": "code",
   "execution_count": 15,
   "id": "b7dbabe7",
   "metadata": {},
   "outputs": [],
   "source": [
    "data['review_text'] = data['review_text'].apply(lambda x:x.lower())"
   ]
  },
  {
   "cell_type": "code",
   "execution_count": 16,
   "id": "895ea9d1",
   "metadata": {},
   "outputs": [
    {
     "data": {
      "text/html": [
       "<div>\n",
       "<style scoped>\n",
       "    .dataframe tbody tr th:only-of-type {\n",
       "        vertical-align: middle;\n",
       "    }\n",
       "\n",
       "    .dataframe tbody tr th {\n",
       "        vertical-align: top;\n",
       "    }\n",
       "\n",
       "    .dataframe thead th {\n",
       "        text-align: right;\n",
       "    }\n",
       "</style>\n",
       "<table border=\"1\" class=\"dataframe\">\n",
       "  <thead>\n",
       "    <tr style=\"text-align: right;\">\n",
       "      <th></th>\n",
       "      <th>review_id</th>\n",
       "      <th>product_id</th>\n",
       "      <th>user_id</th>\n",
       "      <th>rating</th>\n",
       "      <th>review_text</th>\n",
       "      <th>timestamp</th>\n",
       "    </tr>\n",
       "  </thead>\n",
       "  <tbody>\n",
       "    <tr>\n",
       "      <th>0</th>\n",
       "      <td>1</td>\n",
       "      <td>103</td>\n",
       "      <td>16074</td>\n",
       "      <td>3</td>\n",
       "      <td>comfortable, but not durable.</td>\n",
       "      <td>2022/11/07 05:30</td>\n",
       "    </tr>\n",
       "    <tr>\n",
       "      <th>1</th>\n",
       "      <td>2</td>\n",
       "      <td>436</td>\n",
       "      <td>11648</td>\n",
       "      <td>4</td>\n",
       "      <td>highly recommend!</td>\n",
       "      <td>2021/09/11 02:53</td>\n",
       "    </tr>\n",
       "    <tr>\n",
       "      <th>2</th>\n",
       "      <td>3</td>\n",
       "      <td>861</td>\n",
       "      <td>46508</td>\n",
       "      <td>2</td>\n",
       "      <td>do not recommend.</td>\n",
       "      <td>2022/12/14 13:24</td>\n",
       "    </tr>\n",
       "    <tr>\n",
       "      <th>3</th>\n",
       "      <td>4</td>\n",
       "      <td>271</td>\n",
       "      <td>40094</td>\n",
       "      <td>3</td>\n",
       "      <td>comfortable, but not durable.</td>\n",
       "      <td>2021/11/29 04:01</td>\n",
       "    </tr>\n",
       "    <tr>\n",
       "      <th>4</th>\n",
       "      <td>5</td>\n",
       "      <td>107</td>\n",
       "      <td>49897</td>\n",
       "      <td>4</td>\n",
       "      <td>will buy again.</td>\n",
       "      <td>2023/04/24 12:12</td>\n",
       "    </tr>\n",
       "    <tr>\n",
       "      <th>...</th>\n",
       "      <td>...</td>\n",
       "      <td>...</td>\n",
       "      <td>...</td>\n",
       "      <td>...</td>\n",
       "      <td>...</td>\n",
       "      <td>...</td>\n",
       "    </tr>\n",
       "    <tr>\n",
       "      <th>99995</th>\n",
       "      <td>99996</td>\n",
       "      <td>650</td>\n",
       "      <td>32166</td>\n",
       "      <td>1</td>\n",
       "      <td>falling apart after a week.</td>\n",
       "      <td>2023/01/22 00:37</td>\n",
       "    </tr>\n",
       "    <tr>\n",
       "      <th>99996</th>\n",
       "      <td>99997</td>\n",
       "      <td>847</td>\n",
       "      <td>35989</td>\n",
       "      <td>5</td>\n",
       "      <td>highly recommend!</td>\n",
       "      <td>2023/08/12 11:55</td>\n",
       "    </tr>\n",
       "    <tr>\n",
       "      <th>99997</th>\n",
       "      <td>99998</td>\n",
       "      <td>864</td>\n",
       "      <td>25448</td>\n",
       "      <td>5</td>\n",
       "      <td>will buy again.</td>\n",
       "      <td>2023/04/20 23:11</td>\n",
       "    </tr>\n",
       "    <tr>\n",
       "      <th>99998</th>\n",
       "      <td>99999</td>\n",
       "      <td>963</td>\n",
       "      <td>21645</td>\n",
       "      <td>1</td>\n",
       "      <td>waste of money.</td>\n",
       "      <td>2021/12/18 10:14</td>\n",
       "    </tr>\n",
       "    <tr>\n",
       "      <th>99999</th>\n",
       "      <td>100000</td>\n",
       "      <td>792</td>\n",
       "      <td>8120</td>\n",
       "      <td>1</td>\n",
       "      <td>waste of money.</td>\n",
       "      <td>2023/05/13 08:36</td>\n",
       "    </tr>\n",
       "  </tbody>\n",
       "</table>\n",
       "<p>100000 rows × 6 columns</p>\n",
       "</div>"
      ],
      "text/plain": [
       "       review_id  product_id  user_id  rating                    review_text  \\\n",
       "0              1         103    16074       3  comfortable, but not durable.   \n",
       "1              2         436    11648       4              highly recommend!   \n",
       "2              3         861    46508       2              do not recommend.   \n",
       "3              4         271    40094       3  comfortable, but not durable.   \n",
       "4              5         107    49897       4                will buy again.   \n",
       "...          ...         ...      ...     ...                            ...   \n",
       "99995      99996         650    32166       1    falling apart after a week.   \n",
       "99996      99997         847    35989       5              highly recommend!   \n",
       "99997      99998         864    25448       5                will buy again.   \n",
       "99998      99999         963    21645       1                waste of money.   \n",
       "99999     100000         792     8120       1                waste of money.   \n",
       "\n",
       "              timestamp  \n",
       "0      2022/11/07 05:30  \n",
       "1      2021/09/11 02:53  \n",
       "2      2022/12/14 13:24  \n",
       "3      2021/11/29 04:01  \n",
       "4      2023/04/24 12:12  \n",
       "...                 ...  \n",
       "99995  2023/01/22 00:37  \n",
       "99996  2023/08/12 11:55  \n",
       "99997  2023/04/20 23:11  \n",
       "99998  2021/12/18 10:14  \n",
       "99999  2023/05/13 08:36  \n",
       "\n",
       "[100000 rows x 6 columns]"
      ]
     },
     "execution_count": 16,
     "metadata": {},
     "output_type": "execute_result"
    }
   ],
   "source": [
    "data"
   ]
  },
  {
   "cell_type": "code",
   "execution_count": 17,
   "id": "5276657b",
   "metadata": {},
   "outputs": [],
   "source": [
    "sw_list = stopwords.words('english')\n",
    "data['review_text'] = data['review_text'].apply(lambda x: [item for item in x.split() if item not in sw_list]).apply(lambda x:\" \".join(x))"
   ]
  },
  {
   "cell_type": "code",
   "execution_count": 18,
   "id": "7b3a76e4",
   "metadata": {},
   "outputs": [
    {
     "data": {
      "text/html": [
       "<div>\n",
       "<style scoped>\n",
       "    .dataframe tbody tr th:only-of-type {\n",
       "        vertical-align: middle;\n",
       "    }\n",
       "\n",
       "    .dataframe tbody tr th {\n",
       "        vertical-align: top;\n",
       "    }\n",
       "\n",
       "    .dataframe thead th {\n",
       "        text-align: right;\n",
       "    }\n",
       "</style>\n",
       "<table border=\"1\" class=\"dataframe\">\n",
       "  <thead>\n",
       "    <tr style=\"text-align: right;\">\n",
       "      <th></th>\n",
       "      <th>review_id</th>\n",
       "      <th>product_id</th>\n",
       "      <th>user_id</th>\n",
       "      <th>rating</th>\n",
       "      <th>review_text</th>\n",
       "      <th>timestamp</th>\n",
       "    </tr>\n",
       "  </thead>\n",
       "  <tbody>\n",
       "    <tr>\n",
       "      <th>0</th>\n",
       "      <td>1</td>\n",
       "      <td>103</td>\n",
       "      <td>16074</td>\n",
       "      <td>3</td>\n",
       "      <td>comfortable, durable.</td>\n",
       "      <td>2022/11/07 05:30</td>\n",
       "    </tr>\n",
       "    <tr>\n",
       "      <th>1</th>\n",
       "      <td>2</td>\n",
       "      <td>436</td>\n",
       "      <td>11648</td>\n",
       "      <td>4</td>\n",
       "      <td>highly recommend!</td>\n",
       "      <td>2021/09/11 02:53</td>\n",
       "    </tr>\n",
       "    <tr>\n",
       "      <th>2</th>\n",
       "      <td>3</td>\n",
       "      <td>861</td>\n",
       "      <td>46508</td>\n",
       "      <td>2</td>\n",
       "      <td>recommend.</td>\n",
       "      <td>2022/12/14 13:24</td>\n",
       "    </tr>\n",
       "    <tr>\n",
       "      <th>3</th>\n",
       "      <td>4</td>\n",
       "      <td>271</td>\n",
       "      <td>40094</td>\n",
       "      <td>3</td>\n",
       "      <td>comfortable, durable.</td>\n",
       "      <td>2021/11/29 04:01</td>\n",
       "    </tr>\n",
       "    <tr>\n",
       "      <th>4</th>\n",
       "      <td>5</td>\n",
       "      <td>107</td>\n",
       "      <td>49897</td>\n",
       "      <td>4</td>\n",
       "      <td>buy again.</td>\n",
       "      <td>2023/04/24 12:12</td>\n",
       "    </tr>\n",
       "    <tr>\n",
       "      <th>...</th>\n",
       "      <td>...</td>\n",
       "      <td>...</td>\n",
       "      <td>...</td>\n",
       "      <td>...</td>\n",
       "      <td>...</td>\n",
       "      <td>...</td>\n",
       "    </tr>\n",
       "    <tr>\n",
       "      <th>99995</th>\n",
       "      <td>99996</td>\n",
       "      <td>650</td>\n",
       "      <td>32166</td>\n",
       "      <td>1</td>\n",
       "      <td>falling apart week.</td>\n",
       "      <td>2023/01/22 00:37</td>\n",
       "    </tr>\n",
       "    <tr>\n",
       "      <th>99996</th>\n",
       "      <td>99997</td>\n",
       "      <td>847</td>\n",
       "      <td>35989</td>\n",
       "      <td>5</td>\n",
       "      <td>highly recommend!</td>\n",
       "      <td>2023/08/12 11:55</td>\n",
       "    </tr>\n",
       "    <tr>\n",
       "      <th>99997</th>\n",
       "      <td>99998</td>\n",
       "      <td>864</td>\n",
       "      <td>25448</td>\n",
       "      <td>5</td>\n",
       "      <td>buy again.</td>\n",
       "      <td>2023/04/20 23:11</td>\n",
       "    </tr>\n",
       "    <tr>\n",
       "      <th>99998</th>\n",
       "      <td>99999</td>\n",
       "      <td>963</td>\n",
       "      <td>21645</td>\n",
       "      <td>1</td>\n",
       "      <td>waste money.</td>\n",
       "      <td>2021/12/18 10:14</td>\n",
       "    </tr>\n",
       "    <tr>\n",
       "      <th>99999</th>\n",
       "      <td>100000</td>\n",
       "      <td>792</td>\n",
       "      <td>8120</td>\n",
       "      <td>1</td>\n",
       "      <td>waste money.</td>\n",
       "      <td>2023/05/13 08:36</td>\n",
       "    </tr>\n",
       "  </tbody>\n",
       "</table>\n",
       "<p>100000 rows × 6 columns</p>\n",
       "</div>"
      ],
      "text/plain": [
       "       review_id  product_id  user_id  rating            review_text  \\\n",
       "0              1         103    16074       3  comfortable, durable.   \n",
       "1              2         436    11648       4      highly recommend!   \n",
       "2              3         861    46508       2             recommend.   \n",
       "3              4         271    40094       3  comfortable, durable.   \n",
       "4              5         107    49897       4             buy again.   \n",
       "...          ...         ...      ...     ...                    ...   \n",
       "99995      99996         650    32166       1    falling apart week.   \n",
       "99996      99997         847    35989       5      highly recommend!   \n",
       "99997      99998         864    25448       5             buy again.   \n",
       "99998      99999         963    21645       1           waste money.   \n",
       "99999     100000         792     8120       1           waste money.   \n",
       "\n",
       "              timestamp  \n",
       "0      2022/11/07 05:30  \n",
       "1      2021/09/11 02:53  \n",
       "2      2022/12/14 13:24  \n",
       "3      2021/11/29 04:01  \n",
       "4      2023/04/24 12:12  \n",
       "...                 ...  \n",
       "99995  2023/01/22 00:37  \n",
       "99996  2023/08/12 11:55  \n",
       "99997  2023/04/20 23:11  \n",
       "99998  2021/12/18 10:14  \n",
       "99999  2023/05/13 08:36  \n",
       "\n",
       "[100000 rows x 6 columns]"
      ]
     },
     "execution_count": 18,
     "metadata": {},
     "output_type": "execute_result"
    }
   ],
   "source": [
    "data"
   ]
  },
  {
   "cell_type": "code",
   "execution_count": null,
   "id": "6f440476",
   "metadata": {},
   "outputs": [],
   "source": []
  },
  {
   "cell_type": "markdown",
   "id": "932973dd",
   "metadata": {},
   "source": [
    "# 2. FEATURE EXTRACTION"
   ]
  },
  {
   "cell_type": "code",
   "execution_count": 19,
   "id": "72357539",
   "metadata": {},
   "outputs": [],
   "source": [
    "data_reviews = data[['product_id', 'rating', 'review_text']]"
   ]
  },
  {
   "cell_type": "code",
   "execution_count": 20,
   "id": "77e4c931",
   "metadata": {},
   "outputs": [
    {
     "data": {
      "text/html": [
       "<div>\n",
       "<style scoped>\n",
       "    .dataframe tbody tr th:only-of-type {\n",
       "        vertical-align: middle;\n",
       "    }\n",
       "\n",
       "    .dataframe tbody tr th {\n",
       "        vertical-align: top;\n",
       "    }\n",
       "\n",
       "    .dataframe thead th {\n",
       "        text-align: right;\n",
       "    }\n",
       "</style>\n",
       "<table border=\"1\" class=\"dataframe\">\n",
       "  <thead>\n",
       "    <tr style=\"text-align: right;\">\n",
       "      <th></th>\n",
       "      <th>product_id</th>\n",
       "      <th>rating</th>\n",
       "      <th>review_text</th>\n",
       "    </tr>\n",
       "  </thead>\n",
       "  <tbody>\n",
       "    <tr>\n",
       "      <th>0</th>\n",
       "      <td>103</td>\n",
       "      <td>3</td>\n",
       "      <td>comfortable, durable.</td>\n",
       "    </tr>\n",
       "    <tr>\n",
       "      <th>1</th>\n",
       "      <td>436</td>\n",
       "      <td>4</td>\n",
       "      <td>highly recommend!</td>\n",
       "    </tr>\n",
       "    <tr>\n",
       "      <th>2</th>\n",
       "      <td>861</td>\n",
       "      <td>2</td>\n",
       "      <td>recommend.</td>\n",
       "    </tr>\n",
       "    <tr>\n",
       "      <th>3</th>\n",
       "      <td>271</td>\n",
       "      <td>3</td>\n",
       "      <td>comfortable, durable.</td>\n",
       "    </tr>\n",
       "    <tr>\n",
       "      <th>4</th>\n",
       "      <td>107</td>\n",
       "      <td>4</td>\n",
       "      <td>buy again.</td>\n",
       "    </tr>\n",
       "    <tr>\n",
       "      <th>...</th>\n",
       "      <td>...</td>\n",
       "      <td>...</td>\n",
       "      <td>...</td>\n",
       "    </tr>\n",
       "    <tr>\n",
       "      <th>99995</th>\n",
       "      <td>650</td>\n",
       "      <td>1</td>\n",
       "      <td>falling apart week.</td>\n",
       "    </tr>\n",
       "    <tr>\n",
       "      <th>99996</th>\n",
       "      <td>847</td>\n",
       "      <td>5</td>\n",
       "      <td>highly recommend!</td>\n",
       "    </tr>\n",
       "    <tr>\n",
       "      <th>99997</th>\n",
       "      <td>864</td>\n",
       "      <td>5</td>\n",
       "      <td>buy again.</td>\n",
       "    </tr>\n",
       "    <tr>\n",
       "      <th>99998</th>\n",
       "      <td>963</td>\n",
       "      <td>1</td>\n",
       "      <td>waste money.</td>\n",
       "    </tr>\n",
       "    <tr>\n",
       "      <th>99999</th>\n",
       "      <td>792</td>\n",
       "      <td>1</td>\n",
       "      <td>waste money.</td>\n",
       "    </tr>\n",
       "  </tbody>\n",
       "</table>\n",
       "<p>100000 rows × 3 columns</p>\n",
       "</div>"
      ],
      "text/plain": [
       "       product_id  rating            review_text\n",
       "0             103       3  comfortable, durable.\n",
       "1             436       4      highly recommend!\n",
       "2             861       2             recommend.\n",
       "3             271       3  comfortable, durable.\n",
       "4             107       4             buy again.\n",
       "...           ...     ...                    ...\n",
       "99995         650       1    falling apart week.\n",
       "99996         847       5      highly recommend!\n",
       "99997         864       5             buy again.\n",
       "99998         963       1           waste money.\n",
       "99999         792       1           waste money.\n",
       "\n",
       "[100000 rows x 3 columns]"
      ]
     },
     "execution_count": 20,
     "metadata": {},
     "output_type": "execute_result"
    }
   ],
   "source": [
    "data_reviews"
   ]
  },
  {
   "cell_type": "code",
   "execution_count": null,
   "id": "7bda489b",
   "metadata": {},
   "outputs": [],
   "source": []
  },
  {
   "cell_type": "markdown",
   "id": "c081b7d1",
   "metadata": {},
   "source": [
    "# 3. LABEL CREATION"
   ]
  },
  {
   "cell_type": "code",
   "execution_count": 21,
   "id": "b8ffa2fa",
   "metadata": {},
   "outputs": [],
   "source": [
    "sentiment_mapping = {\n",
    "    5: 'Positive',\n",
    "    4: 'Positive',\n",
    "    3: 'Neutral',\n",
    "    2: 'Negative',\n",
    "    1: 'Negative'\n",
    "}"
   ]
  },
  {
   "cell_type": "code",
   "execution_count": 22,
   "id": "d053d74b",
   "metadata": {
    "scrolled": true
   },
   "outputs": [
    {
     "name": "stderr",
     "output_type": "stream",
     "text": [
      "C:\\Users\\morap\\AppData\\Local\\Temp\\ipykernel_29996\\1465374821.py:1: SettingWithCopyWarning: \n",
      "A value is trying to be set on a copy of a slice from a DataFrame.\n",
      "Try using .loc[row_indexer,col_indexer] = value instead\n",
      "\n",
      "See the caveats in the documentation: https://pandas.pydata.org/pandas-docs/stable/user_guide/indexing.html#returning-a-view-versus-a-copy\n",
      "  data_reviews['sentiment'] = data_reviews['rating'].map(sentiment_mapping)\n"
     ]
    },
    {
     "data": {
      "text/html": [
       "<div>\n",
       "<style scoped>\n",
       "    .dataframe tbody tr th:only-of-type {\n",
       "        vertical-align: middle;\n",
       "    }\n",
       "\n",
       "    .dataframe tbody tr th {\n",
       "        vertical-align: top;\n",
       "    }\n",
       "\n",
       "    .dataframe thead th {\n",
       "        text-align: right;\n",
       "    }\n",
       "</style>\n",
       "<table border=\"1\" class=\"dataframe\">\n",
       "  <thead>\n",
       "    <tr style=\"text-align: right;\">\n",
       "      <th></th>\n",
       "      <th>product_id</th>\n",
       "      <th>rating</th>\n",
       "      <th>review_text</th>\n",
       "      <th>sentiment</th>\n",
       "    </tr>\n",
       "  </thead>\n",
       "  <tbody>\n",
       "    <tr>\n",
       "      <th>0</th>\n",
       "      <td>103</td>\n",
       "      <td>3</td>\n",
       "      <td>comfortable, durable.</td>\n",
       "      <td>Neutral</td>\n",
       "    </tr>\n",
       "    <tr>\n",
       "      <th>1</th>\n",
       "      <td>436</td>\n",
       "      <td>4</td>\n",
       "      <td>highly recommend!</td>\n",
       "      <td>Positive</td>\n",
       "    </tr>\n",
       "    <tr>\n",
       "      <th>2</th>\n",
       "      <td>861</td>\n",
       "      <td>2</td>\n",
       "      <td>recommend.</td>\n",
       "      <td>Negative</td>\n",
       "    </tr>\n",
       "    <tr>\n",
       "      <th>3</th>\n",
       "      <td>271</td>\n",
       "      <td>3</td>\n",
       "      <td>comfortable, durable.</td>\n",
       "      <td>Neutral</td>\n",
       "    </tr>\n",
       "    <tr>\n",
       "      <th>4</th>\n",
       "      <td>107</td>\n",
       "      <td>4</td>\n",
       "      <td>buy again.</td>\n",
       "      <td>Positive</td>\n",
       "    </tr>\n",
       "    <tr>\n",
       "      <th>...</th>\n",
       "      <td>...</td>\n",
       "      <td>...</td>\n",
       "      <td>...</td>\n",
       "      <td>...</td>\n",
       "    </tr>\n",
       "    <tr>\n",
       "      <th>99995</th>\n",
       "      <td>650</td>\n",
       "      <td>1</td>\n",
       "      <td>falling apart week.</td>\n",
       "      <td>Negative</td>\n",
       "    </tr>\n",
       "    <tr>\n",
       "      <th>99996</th>\n",
       "      <td>847</td>\n",
       "      <td>5</td>\n",
       "      <td>highly recommend!</td>\n",
       "      <td>Positive</td>\n",
       "    </tr>\n",
       "    <tr>\n",
       "      <th>99997</th>\n",
       "      <td>864</td>\n",
       "      <td>5</td>\n",
       "      <td>buy again.</td>\n",
       "      <td>Positive</td>\n",
       "    </tr>\n",
       "    <tr>\n",
       "      <th>99998</th>\n",
       "      <td>963</td>\n",
       "      <td>1</td>\n",
       "      <td>waste money.</td>\n",
       "      <td>Negative</td>\n",
       "    </tr>\n",
       "    <tr>\n",
       "      <th>99999</th>\n",
       "      <td>792</td>\n",
       "      <td>1</td>\n",
       "      <td>waste money.</td>\n",
       "      <td>Negative</td>\n",
       "    </tr>\n",
       "  </tbody>\n",
       "</table>\n",
       "<p>100000 rows × 4 columns</p>\n",
       "</div>"
      ],
      "text/plain": [
       "       product_id  rating            review_text sentiment\n",
       "0             103       3  comfortable, durable.   Neutral\n",
       "1             436       4      highly recommend!  Positive\n",
       "2             861       2             recommend.  Negative\n",
       "3             271       3  comfortable, durable.   Neutral\n",
       "4             107       4             buy again.  Positive\n",
       "...           ...     ...                    ...       ...\n",
       "99995         650       1    falling apart week.  Negative\n",
       "99996         847       5      highly recommend!  Positive\n",
       "99997         864       5             buy again.  Positive\n",
       "99998         963       1           waste money.  Negative\n",
       "99999         792       1           waste money.  Negative\n",
       "\n",
       "[100000 rows x 4 columns]"
      ]
     },
     "execution_count": 22,
     "metadata": {},
     "output_type": "execute_result"
    }
   ],
   "source": [
    "data_reviews['sentiment'] = data_reviews['rating'].map(sentiment_mapping)\n",
    "data_reviews"
   ]
  },
  {
   "cell_type": "code",
   "execution_count": 23,
   "id": "06cabef6",
   "metadata": {
    "scrolled": true
   },
   "outputs": [
    {
     "name": "stderr",
     "output_type": "stream",
     "text": [
      "C:\\Users\\morap\\anaconda3\\lib\\site-packages\\seaborn\\_decorators.py:36: FutureWarning: Pass the following variables as keyword args: x, y. From version 0.12, the only valid positional argument will be `data`, and passing other arguments without an explicit keyword will result in an error or misinterpretation.\n",
      "  warnings.warn(\n"
     ]
    },
    {
     "data": {
      "image/png": "[encoded data removed]",
      "text/plain": [
       "<Figure size 432x432 with 1 Axes>"
      ]
     },
     "metadata": {
      "needs_background": "light"
     },
     "output_type": "display_data"
    }
   ],
   "source": [
    "label_count = data_reviews['rating'].value_counts()\n",
    "label_count = label_count.sort_index()\n",
    "\n",
    "fig = plt.figure(figsize=(6, 6))\n",
    "ax = sns.barplot(label_count.index, label_count.values)\n",
    "plt.title(\"Class Distribution\",fontsize = 20)\n",
    "plt.ylabel('Number of Reviews', fontsize = 12)\n",
    "plt.xlabel('Sentiment', fontsize = 12);"
   ]
  },
  {
   "cell_type": "code",
   "execution_count": 24,
   "id": "0af55456",
   "metadata": {},
   "outputs": [
    {
     "name": "stderr",
     "output_type": "stream",
     "text": [
      "C:\\Users\\morap\\anaconda3\\lib\\site-packages\\seaborn\\_decorators.py:36: FutureWarning: Pass the following variables as keyword args: x, y. From version 0.12, the only valid positional argument will be `data`, and passing other arguments without an explicit keyword will result in an error or misinterpretation.\n",
      "  warnings.warn(\n"
     ]
    },
    {
     "data": {
      "image/png": "[encoded data removed]",
      "text/plain": [
       "<Figure size 432x432 with 1 Axes>"
      ]
     },
     "metadata": {
      "needs_background": "light"
     },
     "output_type": "display_data"
    }
   ],
   "source": [
    "label_count = data_reviews['sentiment'].value_counts()\n",
    "label_count = label_count.sort_index()\n",
    "\n",
    "fig = plt.figure(figsize=(6, 6))\n",
    "ax = sns.barplot(label_count.index, label_count.values)\n",
    "plt.title(\"Class Distribution\",fontsize = 20)\n",
    "plt.ylabel('Number of Reviews', fontsize = 12)\n",
    "plt.xlabel('Sentiment', fontsize = 12);"
   ]
  },
  {
   "cell_type": "code",
   "execution_count": 25,
   "id": "6e2a989a",
   "metadata": {},
   "outputs": [],
   "source": [
    "X = data_reviews[['product_id', 'rating', 'review_text']]\n",
    "y = data_reviews['sentiment']"
   ]
  },
  {
   "cell_type": "code",
   "execution_count": 26,
   "id": "5f6c000c",
   "metadata": {},
   "outputs": [
    {
     "data": {
      "text/html": [
       "<div>\n",
       "<style scoped>\n",
       "    .dataframe tbody tr th:only-of-type {\n",
       "        vertical-align: middle;\n",
       "    }\n",
       "\n",
       "    .dataframe tbody tr th {\n",
       "        vertical-align: top;\n",
       "    }\n",
       "\n",
       "    .dataframe thead th {\n",
       "        text-align: right;\n",
       "    }\n",
       "</style>\n",
       "<table border=\"1\" class=\"dataframe\">\n",
       "  <thead>\n",
       "    <tr style=\"text-align: right;\">\n",
       "      <th></th>\n",
       "      <th>product_id</th>\n",
       "      <th>rating</th>\n",
       "      <th>review_text</th>\n",
       "    </tr>\n",
       "  </thead>\n",
       "  <tbody>\n",
       "    <tr>\n",
       "      <th>0</th>\n",
       "      <td>103</td>\n",
       "      <td>3</td>\n",
       "      <td>comfortable, durable.</td>\n",
       "    </tr>\n",
       "    <tr>\n",
       "      <th>1</th>\n",
       "      <td>436</td>\n",
       "      <td>4</td>\n",
       "      <td>highly recommend!</td>\n",
       "    </tr>\n",
       "    <tr>\n",
       "      <th>2</th>\n",
       "      <td>861</td>\n",
       "      <td>2</td>\n",
       "      <td>recommend.</td>\n",
       "    </tr>\n",
       "    <tr>\n",
       "      <th>3</th>\n",
       "      <td>271</td>\n",
       "      <td>3</td>\n",
       "      <td>comfortable, durable.</td>\n",
       "    </tr>\n",
       "    <tr>\n",
       "      <th>4</th>\n",
       "      <td>107</td>\n",
       "      <td>4</td>\n",
       "      <td>buy again.</td>\n",
       "    </tr>\n",
       "    <tr>\n",
       "      <th>...</th>\n",
       "      <td>...</td>\n",
       "      <td>...</td>\n",
       "      <td>...</td>\n",
       "    </tr>\n",
       "    <tr>\n",
       "      <th>99995</th>\n",
       "      <td>650</td>\n",
       "      <td>1</td>\n",
       "      <td>falling apart week.</td>\n",
       "    </tr>\n",
       "    <tr>\n",
       "      <th>99996</th>\n",
       "      <td>847</td>\n",
       "      <td>5</td>\n",
       "      <td>highly recommend!</td>\n",
       "    </tr>\n",
       "    <tr>\n",
       "      <th>99997</th>\n",
       "      <td>864</td>\n",
       "      <td>5</td>\n",
       "      <td>buy again.</td>\n",
       "    </tr>\n",
       "    <tr>\n",
       "      <th>99998</th>\n",
       "      <td>963</td>\n",
       "      <td>1</td>\n",
       "      <td>waste money.</td>\n",
       "    </tr>\n",
       "    <tr>\n",
       "      <th>99999</th>\n",
       "      <td>792</td>\n",
       "      <td>1</td>\n",
       "      <td>waste money.</td>\n",
       "    </tr>\n",
       "  </tbody>\n",
       "</table>\n",
       "<p>100000 rows × 3 columns</p>\n",
       "</div>"
      ],
      "text/plain": [
       "       product_id  rating            review_text\n",
       "0             103       3  comfortable, durable.\n",
       "1             436       4      highly recommend!\n",
       "2             861       2             recommend.\n",
       "3             271       3  comfortable, durable.\n",
       "4             107       4             buy again.\n",
       "...           ...     ...                    ...\n",
       "99995         650       1    falling apart week.\n",
       "99996         847       5      highly recommend!\n",
       "99997         864       5             buy again.\n",
       "99998         963       1           waste money.\n",
       "99999         792       1           waste money.\n",
       "\n",
       "[100000 rows x 3 columns]"
      ]
     },
     "execution_count": 26,
     "metadata": {},
     "output_type": "execute_result"
    }
   ],
   "source": [
    "X"
   ]
  },
  {
   "cell_type": "code",
   "execution_count": 27,
   "id": "372dd13e",
   "metadata": {},
   "outputs": [
    {
     "data": {
      "text/plain": [
       "0         Neutral\n",
       "1        Positive\n",
       "2        Negative\n",
       "3         Neutral\n",
       "4        Positive\n",
       "           ...   \n",
       "99995    Negative\n",
       "99996    Positive\n",
       "99997    Positive\n",
       "99998    Negative\n",
       "99999    Negative\n",
       "Name: sentiment, Length: 100000, dtype: object"
      ]
     },
     "execution_count": 27,
     "metadata": {},
     "output_type": "execute_result"
    }
   ],
   "source": [
    "y"
   ]
  },
  {
   "cell_type": "code",
   "execution_count": null,
   "id": "9f39b001",
   "metadata": {},
   "outputs": [],
   "source": []
  },
  {
   "cell_type": "code",
   "execution_count": 28,
   "id": "c1bc87d5",
   "metadata": {},
   "outputs": [],
   "source": [
    "from sklearn.preprocessing import LabelEncoder\n",
    "\n",
    "encoder = LabelEncoder()\n",
    "y = encoder.fit_transform(y)"
   ]
  },
  {
   "cell_type": "code",
   "execution_count": 29,
   "id": "a9b4b9df",
   "metadata": {},
   "outputs": [
    {
     "data": {
      "text/plain": [
       "array([1, 2, 0, ..., 2, 0, 0])"
      ]
     },
     "execution_count": 29,
     "metadata": {},
     "output_type": "execute_result"
    }
   ],
   "source": [
    "y"
   ]
  },
  {
   "cell_type": "code",
   "execution_count": null,
   "id": "a614a7b5",
   "metadata": {},
   "outputs": [],
   "source": []
  },
  {
   "cell_type": "markdown",
   "id": "1073ffc9",
   "metadata": {},
   "source": [
    "# 4. MODEL SELECTION"
   ]
  },
  {
   "cell_type": "markdown",
   "id": "ed22de3c",
   "metadata": {},
   "source": [
    "### LOGISTIC REGRESSION"
   ]
  },
  {
   "cell_type": "code",
   "execution_count": 31,
   "id": "2f830738",
   "metadata": {},
   "outputs": [],
   "source": [
    "from sklearn.linear_model import LogisticRegression\n",
    "lr = LogisticRegression(solver = 'liblinear', random_state = 42, max_iter=1000)"
   ]
  },
  {
   "cell_type": "code",
   "execution_count": null,
   "id": "7648e47e",
   "metadata": {},
   "outputs": [],
   "source": []
  },
  {
   "cell_type": "markdown",
   "id": "e097def3",
   "metadata": {},
   "source": [
    "# 5. TRAIN-TEST SPLIT"
   ]
  },
  {
   "cell_type": "code",
   "execution_count": 32,
   "id": "445fd339",
   "metadata": {},
   "outputs": [],
   "source": [
    "X_train, X_test, y_train, y_test = train_test_split(X, y, test_size=0.3, random_state=42)"
   ]
  },
  {
   "cell_type": "code",
   "execution_count": 33,
   "id": "a0edc914",
   "metadata": {},
   "outputs": [
    {
     "name": "stdout",
     "output_type": "stream",
     "text": [
      "(70000, 3)\n",
      "(70000,)\n"
     ]
    }
   ],
   "source": [
    "print(X_train.shape)\n",
    "print(y_train.shape)"
   ]
  },
  {
   "cell_type": "code",
   "execution_count": 34,
   "id": "24222ce4",
   "metadata": {},
   "outputs": [
    {
     "name": "stdout",
     "output_type": "stream",
     "text": [
      "(30000, 3)\n",
      "(30000,)\n"
     ]
    }
   ],
   "source": [
    "print(X_test.shape)\n",
    "print(y_test.shape)"
   ]
  },
  {
   "cell_type": "code",
   "execution_count": null,
   "id": "4ab7000d",
   "metadata": {},
   "outputs": [],
   "source": []
  },
  {
   "cell_type": "markdown",
   "id": "4e870ed9",
   "metadata": {},
   "source": [
    "# SAVING REVIEW VECTORIZER"
   ]
  },
  {
   "cell_type": "code",
   "execution_count": 35,
   "id": "dac16217",
   "metadata": {},
   "outputs": [],
   "source": [
    "from sklearn.feature_extraction.text import CountVectorizer\n",
    "\n",
    "# Saving model transformer\n",
    "cv = CountVectorizer()"
   ]
  },
  {
   "cell_type": "code",
   "execution_count": 36,
   "id": "b2a938e3",
   "metadata": {},
   "outputs": [],
   "source": [
    "X_train_ = cv.fit_transform(X_train['review_text']).toarray()\n",
    "X_test_ = cv.fit_transform(X_test['review_text']).toarray()"
   ]
  },
  {
   "cell_type": "code",
   "execution_count": 38,
   "id": "f50a7581",
   "metadata": {},
   "outputs": [
    {
     "name": "stdout",
     "output_type": "stream",
     "text": [
      "(70000, 20)\n",
      "(30000, 20)\n"
     ]
    }
   ],
   "source": [
    "print(X_train_.shape)\n",
    "print(X_test_.shape)"
   ]
  },
  {
   "cell_type": "code",
   "execution_count": null,
   "id": "3714066f",
   "metadata": {},
   "outputs": [],
   "source": [
    "pickle.dump(cv, open(\"review_vectorizer.pkl\", \"wb\"))"
   ]
  },
  {
   "cell_type": "code",
   "execution_count": null,
   "id": "e4d2a34d",
   "metadata": {},
   "outputs": [],
   "source": []
  },
  {
   "cell_type": "markdown",
   "id": "2ef4422d",
   "metadata": {},
   "source": [
    "# 6. MODEL TRAINING"
   ]
  },
  {
   "cell_type": "code",
   "execution_count": 39,
   "id": "450a3551",
   "metadata": {},
   "outputs": [
    {
     "data": {
      "text/plain": [
       "LogisticRegression(max_iter=1000, random_state=42, solver='liblinear')"
      ]
     },
     "execution_count": 39,
     "metadata": {},
     "output_type": "execute_result"
    }
   ],
   "source": [
    "lr.fit(X_train_,y_train)"
   ]
  },
  {
   "cell_type": "code",
   "execution_count": 40,
   "id": "e28dbf22",
   "metadata": {},
   "outputs": [],
   "source": [
    "y_pred = lr.predict(X_test_)"
   ]
  },
  {
   "cell_type": "code",
   "execution_count": null,
   "id": "33f4eed0",
   "metadata": {},
   "outputs": [],
   "source": []
  },
  {
   "cell_type": "markdown",
   "id": "51753bbc",
   "metadata": {},
   "source": [
    "# 7. MODEL EVALUATION"
   ]
  },
  {
   "cell_type": "markdown",
   "id": "db7fbf31",
   "metadata": {},
   "source": [
    "# ACCURACY SCORE and CONFUSION MATRIX"
   ]
  },
  {
   "cell_type": "code",
   "execution_count": 41,
   "id": "23b1111f",
   "metadata": {},
   "outputs": [
    {
     "data": {
      "text/plain": [
       "1.0"
      ]
     },
     "execution_count": 41,
     "metadata": {},
     "output_type": "execute_result"
    }
   ],
   "source": [
    "from sklearn.metrics import accuracy_score, confusion_matrix\n",
    "accuracy_score(y_test, y_pred)"
   ]
  },
  {
   "cell_type": "code",
   "execution_count": 44,
   "id": "e7c871af",
   "metadata": {},
   "outputs": [
    {
     "name": "stdout",
     "output_type": "stream",
     "text": [
      "              precision    recall  f1-score   support\n",
      "\n",
      "           0       1.00      1.00      1.00     12030\n",
      "           1       1.00      1.00      1.00      5990\n",
      "           2       1.00      1.00      1.00     11980\n",
      "\n",
      "    accuracy                           1.00     30000\n",
      "   macro avg       1.00      1.00      1.00     30000\n",
      "weighted avg       1.00      1.00      1.00     30000\n",
      "\n"
     ]
    }
   ],
   "source": [
    "print(classification_report(y_test, y_pred))"
   ]
  },
  {
   "cell_type": "markdown",
   "id": "8fb6ca35",
   "metadata": {},
   "source": [
    "# FEATURE IMPORTANCE"
   ]
  },
  {
   "cell_type": "code",
   "execution_count": 45,
   "id": "040f4a88",
   "metadata": {},
   "outputs": [
    {
     "name": "stdout",
     "output_type": "stream",
     "text": [
      "Feature:  again Score:  -3.3622885085025342\n",
      "Feature:  apart Score:  2.7683294460955445\n",
      "Feature:  average Score:  -2.1510636531904783\n",
      "Feature:  buy Score:  -3.3622885085025342\n",
      "Feature:  comfortable Score:  -6.279440047282528\n",
      "Feature:  decent Score:  -4.646080526787152\n",
      "Feature:  durable Score:  -1.0792227034322706\n",
      "Feature:  falling Score:  2.7683294460955445\n",
      "Feature:  great Score:  -5.057478200640132\n",
      "Feature:  highly Score:  -11.866002291338566\n"
     ]
    }
   ],
   "source": [
    "feature_importance = lr.coef_[0][:10]\n",
    "for i,v in enumerate(feature_importance):\n",
    "    print('Feature: ', list(cv.vocabulary_.keys())[list(cv.vocabulary_.values()).index(i)], 'Score: ', v)"
   ]
  },
  {
   "cell_type": "code",
   "execution_count": 46,
   "id": "45cdc0a6",
   "metadata": {},
   "outputs": [],
   "source": [
    "feature_importance = lr.coef_[0]\n",
    "sorted_idx = np.argsort(feature_importance)"
   ]
  },
  {
   "cell_type": "markdown",
   "id": "2c5b5810",
   "metadata": {},
   "source": [
    "# TOP 10 WORDS/PHRASES FOR THE NEGATIVE RATINGS"
   ]
  },
  {
   "cell_type": "code",
   "execution_count": 48,
   "id": "240231ac",
   "metadata": {},
   "outputs": [
    {
     "name": "stdout",
     "output_type": "stream",
     "text": [
      "['poor', 'uncomfortable', 'recommend', 'money', 'waste', 'week', 'apart', 'falling', 'durable', 'quality']\n"
     ]
    }
   ],
   "source": [
    "top_10_neg_w = [list(cv.vocabulary_.keys())[list(cv.vocabulary_.values()).index(w)] for w in sorted_idx[range(-1,-11, -1)]]\n",
    "print(top_10_neg_w)"
   ]
  },
  {
   "cell_type": "code",
   "execution_count": 49,
   "id": "8ac6d1c7",
   "metadata": {},
   "outputs": [
    {
     "name": "stderr",
     "output_type": "stream",
     "text": [
      "C:\\Users\\morap\\anaconda3\\lib\\site-packages\\seaborn\\_decorators.py:36: FutureWarning: Pass the following variables as keyword args: x, y. From version 0.12, the only valid positional argument will be `data`, and passing other arguments without an explicit keyword will result in an error or misinterpretation.\n",
      "  warnings.warn(\n"
     ]
    },
    {
     "data": {
      "image/png": "[encoded data removed]",
      "text/plain": [
       "<Figure size 720x432 with 1 Axes>"
      ]
     },
     "metadata": {
      "needs_background": "light"
     },
     "output_type": "display_data"
    }
   ],
   "source": [
    "fig = plt.figure(figsize=(10, 6))\n",
    "ax = sns.barplot(top_10_neg_w, feature_importance[sorted_idx[range(-1,-11, -1)]])\n",
    "plt.title(\"Most Important Words Used for Negative Sentiment\",fontsize = 20)\n",
    "x_locs,x_labels = plt.xticks()\n",
    "plt.setp(x_labels, rotation = 40)\n",
    "plt.ylabel('Feature Importance', fontsize = 12)\n",
    "plt.xlabel('Word', fontsize = 12);"
   ]
  },
  {
   "cell_type": "markdown",
   "id": "f4d15e4f",
   "metadata": {},
   "source": [
    "# TOP 10 WORDS/PHRASES FOR THE POSITIVE RATINGS"
   ]
  },
  {
   "cell_type": "code",
   "execution_count": 50,
   "id": "9e726624",
   "metadata": {},
   "outputs": [
    {
     "name": "stdout",
     "output_type": "stream",
     "text": [
      "['highly', 'comfortable', 'okay', 'great', 'decent', 'sneakers', 'again', 'buy', 'love', 'average']\n"
     ]
    }
   ],
   "source": [
    "top_10_pos_w = [list(cv.vocabulary_.keys())[list(cv.vocabulary_.values()).index(w)] for w in sorted_idx[:10]]\n",
    "print(top_10_pos_w)"
   ]
  },
  {
   "cell_type": "code",
   "execution_count": 51,
   "id": "21a6077e",
   "metadata": {},
   "outputs": [
    {
     "name": "stderr",
     "output_type": "stream",
     "text": [
      "C:\\Users\\morap\\anaconda3\\lib\\site-packages\\seaborn\\_decorators.py:36: FutureWarning: Pass the following variables as keyword args: x, y. From version 0.12, the only valid positional argument will be `data`, and passing other arguments without an explicit keyword will result in an error or misinterpretation.\n",
      "  warnings.warn(\n"
     ]
    },
    {
     "data": {
      "image/png": "[encoded data removed]",
      "text/plain": [
       "<Figure size 720x432 with 1 Axes>"
      ]
     },
     "metadata": {
      "needs_background": "light"
     },
     "output_type": "display_data"
    }
   ],
   "source": [
    "fig = plt.figure(figsize=(10, 6))\n",
    "ax = sns.barplot(top_10_pos_w, feature_importance[sorted_idx[:10]])\n",
    "plt.title(\"Most Important Words Used for Positive Sentiment\",fontsize = 20)\n",
    "x_locs,x_labels = plt.xticks()\n",
    "plt.setp(x_labels, rotation = 40)\n",
    "plt.ylabel('Feature Importance', fontsize = 12)\n",
    "plt.xlabel('Word', fontsize = 12);"
   ]
  },
  {
   "cell_type": "code",
   "execution_count": 72,
   "id": "fa5b23ad",
   "metadata": {},
   "outputs": [
    {
     "data": {
      "text/plain": [
       "array([[3.26252785e-05, 3.46607484e-03, 9.96501300e-01]])"
      ]
     },
     "execution_count": 72,
     "metadata": {},
     "output_type": "execute_result"
    }
   ],
   "source": [
    "test_review = cv.transform([\"The sneakers are great\"])\n",
    "lr.predict_proba(test_review)"
   ]
  },
  {
   "cell_type": "code",
   "execution_count": 73,
   "id": "9a3e5467",
   "metadata": {},
   "outputs": [
    {
     "data": {
      "text/plain": [
       "array([[0.99162529, 0.00363861, 0.0047361 ]])"
      ]
     },
     "execution_count": 73,
     "metadata": {},
     "output_type": "execute_result"
    }
   ],
   "source": [
    "test_review = cv.transform([\"The sneakers are poor\"])\n",
    "lr.predict_proba(test_review)"
   ]
  },
  {
   "cell_type": "code",
   "execution_count": 75,
   "id": "4bd87652",
   "metadata": {},
   "outputs": [
    {
     "data": {
      "text/plain": [
       "(1, 3)"
      ]
     },
     "execution_count": 75,
     "metadata": {},
     "output_type": "execute_result"
    }
   ],
   "source": [
    "lr.predict_proba(test_review).shape"
   ]
  },
  {
   "cell_type": "code",
   "execution_count": 74,
   "id": "8c0ffb73",
   "metadata": {},
   "outputs": [
    {
     "name": "stdout",
     "output_type": "stream",
     "text": [
      "Kindly rate this as a negative review\n"
     ]
    }
   ],
   "source": [
    "test_review = cv.transform([\"The sneakers are poor\"])\n",
    "prediction = lr.predict_proba(test_review)\n",
    "if prediction[:, 0] > prediction[:,1]:\n",
    "    print('Kindly rate this as a negative review')\n",
    "elif prediction[:, 0] < prediction[:,1]:\n",
    "    print('Kindly rate this as a positive review ')"
   ]
  },
  {
   "cell_type": "code",
   "execution_count": 71,
   "id": "ff637f06",
   "metadata": {},
   "outputs": [
    {
     "name": "stdout",
     "output_type": "stream",
     "text": [
      "Kindly rate this as a positive review \n"
     ]
    }
   ],
   "source": [
    "test_review2 = cv.transform([\"The sneakers are great\"])\n",
    "prediction = lr.predict_proba(test_review2)\n",
    "if prediction[:, 0] > prediction[:,1]:\n",
    "    print('Kindly rate this as a negative review')\n",
    "elif prediction[:, 0] < prediction[:,1]:\n",
    "    print('Kindly rate this as a positive review ')"
   ]
  }
 ],
 "metadata": {
  "kernelspec": {
   "display_name": "Python 3 (ipykernel)",
   "language": "python",
   "name": "python3"
  },
  "language_info": {
   "codemirror_mode": {
    "name": "ipython",
    "version": 3
   },
   "file_extension": ".py",
   "mimetype": "text/x-python",
   "name": "python",
   "nbconvert_exporter": "python",
   "pygments_lexer": "ipython3",
   "version": "3.9.12"
  }
 },
 "nbformat": 4,
 "nbformat_minor": 5
}
